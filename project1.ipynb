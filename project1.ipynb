{
 "cells": [
  {
   "cell_type": "code",
   "execution_count": 1,
   "metadata": {},
   "outputs": [],
   "source": [
    "import random\n",
    "import copy\n",
    "import sys\n",
    "\n",
    "def insertion_sort(arr):\n",
    "    for k in range(1,len(arr)):\n",
    "        cur = arr[k]\n",
    "        j = k\n",
    "        while j>0 and arr[j-1] > cur:\n",
    "            arr[j] = arr[j-1]\n",
    "            j = j-1\n",
    "        arr[j] = cur\n",
    "\n",
    "def selection_sort(arr):\n",
    "    for k in range(len(arr)):\n",
    "        minloc = k\n",
    "        j = k + 1\n",
    "        while j < len(arr):\n",
    "            if arr[j] < arr[minloc]:\n",
    "                minloc = j\n",
    "            j = j + 1\n",
    "        orig = arr[k]\n",
    "        arr[k] = arr[minloc]\n",
    "        arr[minloc] = orig"
   ]
  },
  {
   "cell_type": "code",
   "execution_count": 2,
   "metadata": {},
   "outputs": [],
   "source": [
    "import trace"
   ]
  },
  {
   "cell_type": "code",
   "execution_count": 6,
   "metadata": {},
   "outputs": [],
   "source": [
    "tracer = trace.Trace(trace = 0, count = 1)\n",
    "tracer.run('insertion_sort([0,5,4,7])') #don't know how to do the directory thing"
   ]
  },
  {
   "cell_type": "code",
   "execution_count": null,
   "metadata": {},
   "outputs": [],
   "source": [
    "#the bonus.py stuff for just the increasing arrays\n",
    "for num in [10000, 15000, 20000, 25000, 30000]:\n",
    "    insertion_arr = [i for i in range(int(num))]\n",
    "    selection_arr = copy.deepcopy(insertion_arr)\n",
    "    insertion_sort(insertion_arr)\n",
    "    selection_sort(selection_arr)"
   ]
  }
 ],
 "metadata": {
  "kernelspec": {
   "display_name": "Python 3",
   "language": "python",
   "name": "python3"
  },
  "language_info": {
   "codemirror_mode": {
    "name": "ipython",
    "version": 3
   },
   "file_extension": ".py",
   "mimetype": "text/x-python",
   "name": "python",
   "nbconvert_exporter": "python",
   "pygments_lexer": "ipython3",
   "version": "3.8.3"
  }
 },
 "nbformat": 4,
 "nbformat_minor": 4
}
